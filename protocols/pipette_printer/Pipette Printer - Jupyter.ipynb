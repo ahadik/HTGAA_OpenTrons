{
 "cells": [
  {
   "cell_type": "code",
   "execution_count": 6,
   "id": "24e157d5",
   "metadata": {},
   "outputs": [
    {
     "name": "stdout",
     "output_type": "stream",
     "text": [
      "Defaulting to user installation because normal site-packages is not writeable\n",
      "Requirement already satisfied: pip in /Users/alex/Library/Python/3.8/lib/python/site-packages (22.0.3)\n",
      "Defaulting to user installation because normal site-packages is not writeable\n",
      "Collecting opentrons\n",
      "  Using cached opentrons-5.0.0-py2.py3-none-any.whl (1.1 MB)\n",
      "Collecting typing-extensions==3.10.0.0\n",
      "  Using cached typing_extensions-3.10.0.0-py3-none-any.whl (26 kB)\n",
      "Collecting jsonschema==3.0.2\n",
      "  Using cached jsonschema-3.0.2-py2.py3-none-any.whl (54 kB)\n",
      "Collecting opentrons-shared-data==5.0.0\n",
      "  Using cached opentrons_shared_data-5.0.0-py2.py3-none-any.whl (434 kB)\n",
      "Collecting pydantic==1.8.2\n",
      "  Using cached pydantic-1.8.2-py3-none-any.whl (126 kB)\n",
      "Collecting aionotify==0.2.0\n",
      "  Using cached aionotify-0.2.0-py3-none-any.whl (6.6 kB)\n",
      "Collecting numpy<2,>=1.15.1\n",
      "  Using cached numpy-1.22.2-cp38-cp38-macosx_11_0_arm64.whl (12.7 MB)\n",
      "Collecting pyserial==3.5\n",
      "  Using cached pyserial-3.5-py2.py3-none-any.whl (90 kB)\n",
      "Collecting anyio==3.3.0\n",
      "  Using cached anyio-3.3.0-py3-none-any.whl (77 kB)\n",
      "Requirement already satisfied: sniffio>=1.1 in /Users/alex/Library/Python/3.8/lib/python/site-packages (from anyio==3.3.0->opentrons) (1.2.0)\n",
      "Requirement already satisfied: idna>=2.8 in /Users/alex/Library/Python/3.8/lib/python/site-packages (from anyio==3.3.0->opentrons) (3.3)\n",
      "Requirement already satisfied: attrs>=17.4.0 in /Users/alex/Library/Python/3.8/lib/python/site-packages (from jsonschema==3.0.2->opentrons) (21.4.0)\n",
      "Requirement already satisfied: six>=1.11.0 in /Library/Developer/CommandLineTools/Library/Frameworks/Python3.framework/Versions/3.8/lib/python3.8/site-packages (from jsonschema==3.0.2->opentrons) (1.15.0)\n",
      "Requirement already satisfied: pyrsistent>=0.14.0 in /Users/alex/Library/Python/3.8/lib/python/site-packages (from jsonschema==3.0.2->opentrons) (0.18.1)\n",
      "Requirement already satisfied: setuptools in /Library/Developer/CommandLineTools/Library/Frameworks/Python3.framework/Versions/3.8/lib/python3.8/site-packages (from jsonschema==3.0.2->opentrons) (49.2.1)\n",
      "Installing collected packages: typing-extensions, pyserial, aionotify, pydantic, numpy, jsonschema, anyio, opentrons-shared-data, opentrons\n",
      "  Attempting uninstall: typing-extensions\n",
      "    Found existing installation: typing_extensions 4.1.1\n",
      "    Uninstalling typing_extensions-4.1.1:\n",
      "      Successfully uninstalled typing_extensions-4.1.1\n",
      "\u001b[33m  WARNING: The scripts pyserial-miniterm and pyserial-ports are installed in '/Users/alex/Library/Python/3.8/bin' which is not on PATH.\n",
      "  Consider adding this directory to PATH or, if you prefer to suppress this warning, use --no-warn-script-location.\u001b[0m\u001b[33m\n",
      "\u001b[0m\u001b[33m  WARNING: The scripts f2py, f2py3 and f2py3.8 are installed in '/Users/alex/Library/Python/3.8/bin' which is not on PATH.\n",
      "  Consider adding this directory to PATH or, if you prefer to suppress this warning, use --no-warn-script-location.\u001b[0m\u001b[33m\n",
      "\u001b[0m  Attempting uninstall: jsonschema\n",
      "    Found existing installation: jsonschema 4.4.0\n",
      "    Uninstalling jsonschema-4.4.0:\n",
      "      Successfully uninstalled jsonschema-4.4.0\n",
      "\u001b[33m  WARNING: The script jsonschema is installed in '/Users/alex/Library/Python/3.8/bin' which is not on PATH.\n",
      "  Consider adding this directory to PATH or, if you prefer to suppress this warning, use --no-warn-script-location.\u001b[0m\u001b[33m\n",
      "\u001b[0m  Attempting uninstall: anyio\n",
      "    Found existing installation: anyio 3.5.0\n",
      "    Uninstalling anyio-3.5.0:\n",
      "      Successfully uninstalled anyio-3.5.0\n",
      "\u001b[33m  WARNING: The scripts opentrons_execute and opentrons_simulate are installed in '/Users/alex/Library/Python/3.8/bin' which is not on PATH.\n",
      "  Consider adding this directory to PATH or, if you prefer to suppress this warning, use --no-warn-script-location.\u001b[0m\u001b[33m\n",
      "\u001b[0mSuccessfully installed aionotify-0.2.0 anyio-3.3.0 jsonschema-3.0.2 numpy-1.22.2 opentrons-5.0.0 opentrons-shared-data-5.0.0 pydantic-1.8.2 pyserial-3.5 typing-extensions-3.10.0.0\n"
     ]
    }
   ],
   "source": [
    "import sys\n",
    "!{sys.executable} -m pip install --upgrade pip\n",
    "!{sys.executable} -m pip install opentrons"
   ]
  },
  {
   "cell_type": "code",
   "execution_count": 11,
   "id": "df1a8cbb",
   "metadata": {},
   "outputs": [],
   "source": [
    "from opentrons import protocol_api\n",
    "from opentrons import simulate"
   ]
  },
  {
   "cell_type": "code",
   "execution_count": 16,
   "id": "3dba0a9f",
   "metadata": {},
   "outputs": [
    {
     "name": "stderr",
     "output_type": "stream",
     "text": [
      "/Users/alex/.opentrons/robot_settings.json not found. Loading defaults\n",
      "/Users/alex/.opentrons/deck_calibration.json not found. Loading defaults\n"
     ]
    }
   ],
   "source": [
    "metadata = {\n",
    "    'protocolName': 'Pipette Printer',\n",
    "    'author': 'Alex Hadik <ahadik@mit.edu>',\n",
    "    'description': 'A simple protocol template for the pipette printing lab.',\n",
    "    'apiLevel': '2.11'\n",
    "}\n",
    "\n",
    "protocol = simulate.get_protocol_api('2.11')\n",
    "p300 = protocol.load_instrument('p300_single', 'right')\n",
    "tiprack = protocol.load_labware('opentrons_96_tiprack_300ul', '1')\n",
    "palette = protocol.load_labware('usascientific_12_reservoir_22ml', '2')\n",
    "canvas = protocol.load_labware('nest_96_wellplate_200ul_flat', '5')"
   ]
  },
  {
   "cell_type": "code",
   "execution_count": 30,
   "id": "b1e6ea04",
   "metadata": {},
   "outputs": [
    {
     "data": {
      "text/plain": [
       "{'A': [A1 of NEST 96 Well Plate 200 µL Flat on 5,\n",
       "  A2 of NEST 96 Well Plate 200 µL Flat on 5,\n",
       "  A3 of NEST 96 Well Plate 200 µL Flat on 5,\n",
       "  A4 of NEST 96 Well Plate 200 µL Flat on 5,\n",
       "  A5 of NEST 96 Well Plate 200 µL Flat on 5,\n",
       "  A6 of NEST 96 Well Plate 200 µL Flat on 5,\n",
       "  A7 of NEST 96 Well Plate 200 µL Flat on 5,\n",
       "  A8 of NEST 96 Well Plate 200 µL Flat on 5,\n",
       "  A9 of NEST 96 Well Plate 200 µL Flat on 5,\n",
       "  A10 of NEST 96 Well Plate 200 µL Flat on 5,\n",
       "  A11 of NEST 96 Well Plate 200 µL Flat on 5,\n",
       "  A12 of NEST 96 Well Plate 200 µL Flat on 5],\n",
       " 'B': [B1 of NEST 96 Well Plate 200 µL Flat on 5,\n",
       "  B2 of NEST 96 Well Plate 200 µL Flat on 5,\n",
       "  B3 of NEST 96 Well Plate 200 µL Flat on 5,\n",
       "  B4 of NEST 96 Well Plate 200 µL Flat on 5,\n",
       "  B5 of NEST 96 Well Plate 200 µL Flat on 5,\n",
       "  B6 of NEST 96 Well Plate 200 µL Flat on 5,\n",
       "  B7 of NEST 96 Well Plate 200 µL Flat on 5,\n",
       "  B8 of NEST 96 Well Plate 200 µL Flat on 5,\n",
       "  B9 of NEST 96 Well Plate 200 µL Flat on 5,\n",
       "  B10 of NEST 96 Well Plate 200 µL Flat on 5,\n",
       "  B11 of NEST 96 Well Plate 200 µL Flat on 5,\n",
       "  B12 of NEST 96 Well Plate 200 µL Flat on 5],\n",
       " 'C': [C1 of NEST 96 Well Plate 200 µL Flat on 5,\n",
       "  C2 of NEST 96 Well Plate 200 µL Flat on 5,\n",
       "  C3 of NEST 96 Well Plate 200 µL Flat on 5,\n",
       "  C4 of NEST 96 Well Plate 200 µL Flat on 5,\n",
       "  C5 of NEST 96 Well Plate 200 µL Flat on 5,\n",
       "  C6 of NEST 96 Well Plate 200 µL Flat on 5,\n",
       "  C7 of NEST 96 Well Plate 200 µL Flat on 5,\n",
       "  C8 of NEST 96 Well Plate 200 µL Flat on 5,\n",
       "  C9 of NEST 96 Well Plate 200 µL Flat on 5,\n",
       "  C10 of NEST 96 Well Plate 200 µL Flat on 5,\n",
       "  C11 of NEST 96 Well Plate 200 µL Flat on 5,\n",
       "  C12 of NEST 96 Well Plate 200 µL Flat on 5],\n",
       " 'D': [D1 of NEST 96 Well Plate 200 µL Flat on 5,\n",
       "  D2 of NEST 96 Well Plate 200 µL Flat on 5,\n",
       "  D3 of NEST 96 Well Plate 200 µL Flat on 5,\n",
       "  D4 of NEST 96 Well Plate 200 µL Flat on 5,\n",
       "  D5 of NEST 96 Well Plate 200 µL Flat on 5,\n",
       "  D6 of NEST 96 Well Plate 200 µL Flat on 5,\n",
       "  D7 of NEST 96 Well Plate 200 µL Flat on 5,\n",
       "  D8 of NEST 96 Well Plate 200 µL Flat on 5,\n",
       "  D9 of NEST 96 Well Plate 200 µL Flat on 5,\n",
       "  D10 of NEST 96 Well Plate 200 µL Flat on 5,\n",
       "  D11 of NEST 96 Well Plate 200 µL Flat on 5,\n",
       "  D12 of NEST 96 Well Plate 200 µL Flat on 5],\n",
       " 'E': [E1 of NEST 96 Well Plate 200 µL Flat on 5,\n",
       "  E2 of NEST 96 Well Plate 200 µL Flat on 5,\n",
       "  E3 of NEST 96 Well Plate 200 µL Flat on 5,\n",
       "  E4 of NEST 96 Well Plate 200 µL Flat on 5,\n",
       "  E5 of NEST 96 Well Plate 200 µL Flat on 5,\n",
       "  E6 of NEST 96 Well Plate 200 µL Flat on 5,\n",
       "  E7 of NEST 96 Well Plate 200 µL Flat on 5,\n",
       "  E8 of NEST 96 Well Plate 200 µL Flat on 5,\n",
       "  E9 of NEST 96 Well Plate 200 µL Flat on 5,\n",
       "  E10 of NEST 96 Well Plate 200 µL Flat on 5,\n",
       "  E11 of NEST 96 Well Plate 200 µL Flat on 5,\n",
       "  E12 of NEST 96 Well Plate 200 µL Flat on 5],\n",
       " 'F': [F1 of NEST 96 Well Plate 200 µL Flat on 5,\n",
       "  F2 of NEST 96 Well Plate 200 µL Flat on 5,\n",
       "  F3 of NEST 96 Well Plate 200 µL Flat on 5,\n",
       "  F4 of NEST 96 Well Plate 200 µL Flat on 5,\n",
       "  F5 of NEST 96 Well Plate 200 µL Flat on 5,\n",
       "  F6 of NEST 96 Well Plate 200 µL Flat on 5,\n",
       "  F7 of NEST 96 Well Plate 200 µL Flat on 5,\n",
       "  F8 of NEST 96 Well Plate 200 µL Flat on 5,\n",
       "  F9 of NEST 96 Well Plate 200 µL Flat on 5,\n",
       "  F10 of NEST 96 Well Plate 200 µL Flat on 5,\n",
       "  F11 of NEST 96 Well Plate 200 µL Flat on 5,\n",
       "  F12 of NEST 96 Well Plate 200 µL Flat on 5],\n",
       " 'G': [G1 of NEST 96 Well Plate 200 µL Flat on 5,\n",
       "  G2 of NEST 96 Well Plate 200 µL Flat on 5,\n",
       "  G3 of NEST 96 Well Plate 200 µL Flat on 5,\n",
       "  G4 of NEST 96 Well Plate 200 µL Flat on 5,\n",
       "  G5 of NEST 96 Well Plate 200 µL Flat on 5,\n",
       "  G6 of NEST 96 Well Plate 200 µL Flat on 5,\n",
       "  G7 of NEST 96 Well Plate 200 µL Flat on 5,\n",
       "  G8 of NEST 96 Well Plate 200 µL Flat on 5,\n",
       "  G9 of NEST 96 Well Plate 200 µL Flat on 5,\n",
       "  G10 of NEST 96 Well Plate 200 µL Flat on 5,\n",
       "  G11 of NEST 96 Well Plate 200 µL Flat on 5,\n",
       "  G12 of NEST 96 Well Plate 200 µL Flat on 5],\n",
       " 'H': [H1 of NEST 96 Well Plate 200 µL Flat on 5,\n",
       "  H2 of NEST 96 Well Plate 200 µL Flat on 5,\n",
       "  H3 of NEST 96 Well Plate 200 µL Flat on 5,\n",
       "  H4 of NEST 96 Well Plate 200 µL Flat on 5,\n",
       "  H5 of NEST 96 Well Plate 200 µL Flat on 5,\n",
       "  H6 of NEST 96 Well Plate 200 µL Flat on 5,\n",
       "  H7 of NEST 96 Well Plate 200 µL Flat on 5,\n",
       "  H8 of NEST 96 Well Plate 200 µL Flat on 5,\n",
       "  H9 of NEST 96 Well Plate 200 µL Flat on 5,\n",
       "  H10 of NEST 96 Well Plate 200 µL Flat on 5,\n",
       "  H11 of NEST 96 Well Plate 200 µL Flat on 5,\n",
       "  H12 of NEST 96 Well Plate 200 µL Flat on 5]}"
      ]
     },
     "execution_count": 30,
     "metadata": {},
     "output_type": "execute_result"
    }
   ],
   "source": [
    "dir(palette)\n",
    "canvas.rows_by_name()"
   ]
  },
  {
   "cell_type": "code",
   "execution_count": 43,
   "id": "ed6b1eb5",
   "metadata": {},
   "outputs": [],
   "source": [
    "def get_rows(column, start_row_index, end_row_index):\n",
    "    wells = []\n",
    "    for i in range(start_row_index, end_row_index + 1):\n",
    "        ascii_num = i + 64\n",
    "        wells.append(chr(ascii_num)+str(column))\n",
    "    return wells"
   ]
  },
  {
   "cell_type": "code",
   "execution_count": 46,
   "id": "ffe5044f",
   "metadata": {},
   "outputs": [
    {
     "data": {
      "text/plain": [
       "['A3']"
      ]
     },
     "execution_count": 46,
     "metadata": {},
     "output_type": "execute_result"
    }
   ],
   "source": [
    "get_rows(3,1,1)"
   ]
  },
  {
   "cell_type": "code",
   "execution_count": 1,
   "id": "0761ef4d",
   "metadata": {},
   "outputs": [],
   "source": [
    "def get_wells_for_digit(digit, column_offset):\n",
    "    wells = []\n",
    "    match digit:\n",
    "        case 0:\n",
    "            wells + get_rows(column_offset, 1, 8)\n",
    "            wells + get_rows(column_offset + 1, 1, 1)\n",
    "            wells + get_rows(column_offset + 1, 8, 8)\n",
    "            wells.append(get_rows(column_offset + 2, 1, 8))\n",
    "            return wells\n",
    "        case 1:\n",
    "            wells + get_rows(column_offset + 1, 1, 8)\n",
    "            wells + get_rows(column_offset, 2, 2)\n",
    "            wells + get_rows(column_offset, 8, 8)\n",
    "            wells + get_rows(column_offset + 2, 1, 1)\n",
    "            return wells\n",
    "        case 2:\n",
    "            wells + get_rows(column_offset, 1, 1)\n",
    "            wells + get_rows(column_offset + 1, 1, 1)\n",
    "            wells + get_rows(column_offset + 2, 1, 5)\n",
    "\n",
    "            wells + get_rows(column_offset + 1, 5, 5)\n",
    "            wells + get_rows(column_offset, 5, 8)\n",
    "\n",
    "            wells + get_rows(column_offset + 1, 8, 8)\n",
    "            wells + get_rows(column_offset + 2, 8, 8)\n",
    "            return wells\n",
    "        case 3:\n",
    "            wells + get_rows(column_offset + 2, 1, 8)\n",
    "\n",
    "            wells + get_rows(column_offset, 1, 1)\n",
    "            wells + get_rows(column_offset + 1, 1, 1)\n",
    "\n",
    "            wells + get_rows(column_offset, 5, 5)\n",
    "            wells + get_rows(column_offset + 1, 5, 5)\n",
    "\n",
    "            wells + get_rows(column_offset, 8, 8)\n",
    "            wells + get_rows(column_offset + 1, 8, 8)\n",
    "            return wells\n",
    "        case 4:\n",
    "            wells + get_rows(column_offset + 2, 1, 8)\n",
    "            wells + get_rows(column_offset, 1, 4)\n",
    "            wells + get_rows(column_offset + 1, 4, 4)\n",
    "\n",
    "            return wells\n",
    "        case 5:\n",
    "            wells + get_rows(column_offset, 1, 4)\n",
    "            wells + get_rows(column_offset + 2, 4, 8)\n",
    "\n",
    "            wells + get_rows(column_offset + 1, 1, 1)\n",
    "            wells + get_rows(column_offset + 2, 1, 1)\n",
    "\n",
    "            wells + get_rows(column_offset + 1, 4, 4)\n",
    "\n",
    "            wells + get_rows(column_offset, 8, 8)\n",
    "            wells + get_rows(column_offset, 8, 8)\n",
    "            return wells\n",
    "        case 6:\n",
    "            wells + get_rows(column_offset, 1, 8)\n",
    "            wells + get_rows(column_offset + 2, 5, 8)\n",
    "\n",
    "            wells + get_rows(column_offset + 1, 1, 1)\n",
    "            wells + get_rows(column_offset + 2, 1, 1)\n",
    "            wells + get_rows(column_offset + 1, 5, 5)\n",
    "            wells + get_rows(column_offset + 1, 8, 8)\n",
    "\n",
    "            return wells\n",
    "        case 7:\n",
    "            wells + get_rows(column_offset + 2, 1, 8)\n",
    "\n",
    "            wells + get_rows(column_offset, 1, 1)\n",
    "            wells + get_rows(column_offset + 1, 1, 1)\n",
    "\n",
    "            return wells\n",
    "        case 8:\n",
    "            wells + get_rows(column_offset, 1, 8)\n",
    "            wells + get_rows(column_offset + 2, 1, 8)\n",
    "\n",
    "            wells + get_rows(column_offset + 1, 1, 1)\n",
    "            wells + get_rows(column_offset + 1, 4, 4)\n",
    "            wells + get_rows(column_offset + 1, 8, 8)\n",
    "            return wells\n",
    "        case 9:\n",
    "            wells + get_rows(column_offset + 2, 1, 8)\n",
    "            wells + get_rows(column_offset, 1, 4)\n",
    "\n",
    "            wells + get_rows(column_offset + 1, 1, 1)\n",
    "            wells + get_rows(column_offset + 1, 4, 4)\n",
    "            return wells\n"
   ]
  },
  {
   "cell_type": "code",
   "execution_count": 10,
   "id": "13e8dc00",
   "metadata": {},
   "outputs": [],
   "source": [
    "def get_wells_for_digit(digit, column_offset):\n",
    "    wells = []\n",
    "    match digit:\n",
    "        case 0:\n",
    "            wells += get_rows(column_offset, 1, 8)\n",
    "            wells += get_rows(column_offset + 1, 1, 1)\n",
    "            wells += get_rows(column_offset + 1, 8, 8)\n",
    "            wells.append(get_rows(column_offset + 2, 1, 8))\n",
    "            return wells\n",
    "        case 1:\n",
    "            wells += get_rows(column_offset + 1, 1, 8)\n",
    "            wells += get_rows(column_offset, 2, 2)\n",
    "            wells += get_rows(column_offset, 8, 8)\n",
    "            wells += get_rows(column_offset + 2, 1, 1)\n",
    "            return wells\n",
    "        case 2:\n",
    "            wells += get_rows(column_offset, 1, 1)\n",
    "            wells += get_rows(column_offset + 1, 1, 1)\n",
    "            wells += get_rows(column_offset + 2, 1, 5)\n",
    "\n",
    "            wells += get_rows(column_offset + 1, 5, 5)\n",
    "            wells += get_rows(column_offset, 5, 8)\n",
    "\n",
    "            wells += get_rows(column_offset + 1, 8, 8)\n",
    "            wells += get_rows(column_offset + 2, 8, 8)\n",
    "            return wells\n",
    "        case 3:\n",
    "            wells += get_rows(column_offset + 2, 1, 8)\n",
    "\n",
    "            wells += get_rows(column_offset, 1, 1)\n",
    "            wells += get_rows(column_offset + 1, 1, 1)\n",
    "\n",
    "            wells += get_rows(column_offset, 5, 5)\n",
    "            wells += get_rows(column_offset + 1, 5, 5)\n",
    "\n",
    "            wells += get_rows(column_offset, 8, 8)\n",
    "            wells += get_rows(column_offset + 1, 8, 8)\n",
    "            return wells\n",
    "        case 4:\n",
    "            wells += get_rows(column_offset + 2, 1, 8)\n",
    "            wells += get_rows(column_offset, 1, 4)\n",
    "            wells += get_rows(column_offset + 1, 4, 4)\n",
    "\n",
    "            return wells\n",
    "        case 5:\n",
    "            wells += get_rows(column_offset, 1, 4)\n",
    "            wells += get_rows(column_offset + 2, 4, 8)\n",
    "\n",
    "            wells += get_rows(column_offset + 1, 1, 1)\n",
    "            wells += get_rows(column_offset + 2, 1, 1)\n",
    "\n",
    "            wells += get_rows(column_offset + 1, 4, 4)\n",
    "\n",
    "            wells += get_rows(column_offset, 8, 8)\n",
    "            wells += get_rows(column_offset, 8, 8)\n",
    "            return wells\n",
    "        case 6:\n",
    "            wells += get_rows(column_offset, 1, 8)\n",
    "            wells += get_rows(column_offset + 2, 5, 8)\n",
    "\n",
    "            wells += get_rows(column_offset + 1, 1, 1)\n",
    "            wells += get_rows(column_offset + 2, 1, 1)\n",
    "            wells += get_rows(column_offset + 1, 5, 5)\n",
    "            wells += get_rows(column_offset + 1, 8, 8)\n",
    "\n",
    "            return wells\n",
    "        case 7:\n",
    "            wells += get_rows(column_offset + 2, 1, 8)\n",
    "\n",
    "            wells += get_rows(column_offset, 1, 1)\n",
    "            wells += get_rows(column_offset + 1, 1, 1)\n",
    "\n",
    "            return wells\n",
    "        case 8:\n",
    "            wells += get_rows(column_offset, 1, 8)\n",
    "            wells += get_rows(column_offset + 2, 1, 8)\n",
    "\n",
    "            wells += get_rows(column_offset + 1, 1, 1)\n",
    "            wells += get_rows(column_offset + 1, 4, 4)\n",
    "            wells += get_rows(column_offset + 1, 8, 8)\n",
    "            return wells\n",
    "        case 9:\n",
    "            wells += get_rows(column_offset + 2, 1, 8)\n",
    "            wells += get_rows(column_offset, 1, 4)\n",
    "\n",
    "            wells += get_rows(column_offset + 1, 1, 1)\n",
    "            wells += get_rows(column_offset + 1, 4, 4)\n",
    "            return wells"
   ]
  },
  {
   "cell_type": "code",
   "execution_count": null,
   "id": "ce537829",
   "metadata": {},
   "outputs": [],
   "source": []
  },
  {
   "cell_type": "code",
   "execution_count": 4,
   "id": "9f15781a",
   "metadata": {},
   "outputs": [],
   "source": [
    "def get_rows(column, start_row_index, end_row_index):\n",
    "    wells = []\n",
    "    for i in range(start_row_index, end_row_index + 1):\n",
    "        ascii_num = i + 64\n",
    "        wells.append(chr(ascii_num)+str(column))\n",
    "    return wells"
   ]
  },
  {
   "cell_type": "code",
   "execution_count": 11,
   "id": "48791c73",
   "metadata": {},
   "outputs": [
    {
     "data": {
      "text/plain": [
       "['A3',\n",
       " 'B3',\n",
       " 'C3',\n",
       " 'D3',\n",
       " 'E3',\n",
       " 'F3',\n",
       " 'G3',\n",
       " 'H3',\n",
       " 'A1',\n",
       " 'A2',\n",
       " 'E1',\n",
       " 'E2',\n",
       " 'H1',\n",
       " 'H2']"
      ]
     },
     "execution_count": 11,
     "metadata": {},
     "output_type": "execute_result"
    }
   ],
   "source": [
    "get_wells_for_digit(3,1)"
   ]
  },
  {
   "cell_type": "code",
   "execution_count": 12,
   "id": "6170ae5e",
   "metadata": {},
   "outputs": [],
   "source": [
    "from datetime import datetime"
   ]
  },
  {
   "cell_type": "code",
   "execution_count": 16,
   "id": "6bbd7d2a",
   "metadata": {},
   "outputs": [
    {
     "data": {
      "text/plain": [
       "'0125'"
      ]
     },
     "execution_count": 16,
     "metadata": {},
     "output_type": "execute_result"
    }
   ],
   "source": [
    "now = datetime.now()\n",
    "current_time = now.strftime(\"%H%M\")\n",
    "current_time"
   ]
  },
  {
   "cell_type": "code",
   "execution_count": 17,
   "id": "348ce618",
   "metadata": {},
   "outputs": [],
   "source": [
    "palette_map = {\n",
    "        'green': 'A1',\n",
    "        'blue': 'A2',\n",
    "        'red': 'A3',\n",
    "        'yellow': 'A4'\n",
    "    }"
   ]
  },
  {
   "cell_type": "code",
   "execution_count": 22,
   "id": "5123a156",
   "metadata": {},
   "outputs": [
    {
     "data": {
      "text/plain": [
       "['A1', 'A2', 'A3', 'A4']"
      ]
     },
     "execution_count": 22,
     "metadata": {},
     "output_type": "execute_result"
    }
   ],
   "source": [
    "list(palette_map.values())"
   ]
  },
  {
   "cell_type": "code",
   "execution_count": null,
   "id": "b4c37d6b",
   "metadata": {},
   "outputs": [],
   "source": []
  },
  {
   "cell_type": "code",
   "execution_count": null,
   "id": "6694da14",
   "metadata": {},
   "outputs": [],
   "source": []
  },
  {
   "cell_type": "code",
   "execution_count": null,
   "id": "26857bb3",
   "metadata": {},
   "outputs": [],
   "source": []
  },
  {
   "cell_type": "code",
   "execution_count": null,
   "id": "8101154e",
   "metadata": {},
   "outputs": [],
   "source": []
  },
  {
   "cell_type": "code",
   "execution_count": 14,
   "id": "3d8e4dcc",
   "metadata": {},
   "outputs": [
    {
     "data": {
      "text/plain": [
       "'01:23'"
      ]
     },
     "execution_count": 14,
     "metadata": {},
     "output_type": "execute_result"
    }
   ],
   "source": [
    "current_time"
   ]
  },
  {
   "cell_type": "code",
   "execution_count": null,
   "id": "bb01afbd",
   "metadata": {},
   "outputs": [],
   "source": []
  },
  {
   "cell_type": "code",
   "execution_count": 7,
   "id": "25ec1994",
   "metadata": {},
   "outputs": [],
   "source": [
    "test = []"
   ]
  },
  {
   "cell_type": "code",
   "execution_count": 8,
   "id": "92066355",
   "metadata": {},
   "outputs": [],
   "source": [
    "test += [3]"
   ]
  },
  {
   "cell_type": "code",
   "execution_count": 9,
   "id": "f52962fa",
   "metadata": {},
   "outputs": [
    {
     "data": {
      "text/plain": [
       "[3]"
      ]
     },
     "execution_count": 9,
     "metadata": {},
     "output_type": "execute_result"
    }
   ],
   "source": [
    "test"
   ]
  },
  {
   "cell_type": "code",
   "execution_count": null,
   "id": "1f775809",
   "metadata": {},
   "outputs": [],
   "source": []
  },
  {
   "cell_type": "code",
   "execution_count": null,
   "id": "34d4827f",
   "metadata": {},
   "outputs": [],
   "source": []
  },
  {
   "cell_type": "code",
   "execution_count": null,
   "id": "af63a573",
   "metadata": {},
   "outputs": [],
   "source": []
  },
  {
   "cell_type": "code",
   "execution_count": null,
   "id": "69f06c47",
   "metadata": {},
   "outputs": [],
   "source": []
  }
 ],
 "metadata": {
  "kernelspec": {
   "display_name": "Python 3 (ipykernel)",
   "language": "python",
   "name": "python3"
  },
  "language_info": {
   "codemirror_mode": {
    "name": "ipython",
    "version": 3
   },
   "file_extension": ".py",
   "mimetype": "text/x-python",
   "name": "python",
   "nbconvert_exporter": "python",
   "pygments_lexer": "ipython3",
   "version": "3.10.0"
  }
 },
 "nbformat": 4,
 "nbformat_minor": 5
}
